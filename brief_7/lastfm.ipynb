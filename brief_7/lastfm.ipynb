{
 "cells": [
  {
   "cell_type": "code",
   "execution_count": 1,
   "id": "integrated-georgia",
   "metadata": {},
   "outputs": [],
   "source": [
    "import pandas as pd\n",
    "import numpy as np"
   ]
  },
  {
   "cell_type": "code",
   "execution_count": 66,
   "id": "capital-castle",
   "metadata": {},
   "outputs": [
    {
     "name": "stdout",
     "output_type": "stream",
     "text": [
      "                    totalUsers  totalPlays     avgPlays\n",
      "name                                                   \n",
      "Britney Spears             522     2393140  4584.559387\n",
      "Depeche Mode               282     1301308  4614.567376\n",
      "Lady Gaga                  611     1291387  2113.563011\n",
      "Christina Aguilera         407     1058405  2600.503686\n",
      "Paramore                   399      963449  2414.659148\n",
      "...                        ...         ...          ...\n",
      "Morris                       1           1     1.000000\n",
      "Eddie Kendricks              1           1     1.000000\n",
      "Excess Pressure              1           1     1.000000\n",
      "My Mine                      1           1     1.000000\n",
      "A.M. Architect               1           1     1.000000\n",
      "\n",
      "[17632 rows x 3 columns]\n"
     ]
    }
   ],
   "source": [
    "plays = pd.read_csv('data/lastfm/user_artists.dat', sep='\\t')\n",
    "artists = pd.read_csv('data/lastfm/artists.dat', sep='\\t', usecols=['id','name'])\n",
    "\n",
    "# Merge artist and user pref data\n",
    "ap = pd.merge(artists, plays, how=\"inner\", left_on=\"id\", right_on=\"artistID\")\n",
    "ap = ap.rename(columns={\"weight\": \"playCount\"})\n",
    "\n",
    "# Group artist by name\n",
    "artist_rank = ap.groupby(['name']) \\\n",
    "    .agg({'userID' : 'count', 'playCount' : 'sum'}) \\\n",
    "    .rename(columns={\"userID\" : 'totalUsers', \"playCount\" : \"totalPlays\"}) \\\n",
    "    .sort_values(['totalPlays'], ascending=False)\n",
    "\n",
    "artist_rank['avgPlays'] = artist_rank['totalPlays'] / artist_rank['totalUsers']\n",
    "print(artist_rank)"
   ]
  },
  {
   "cell_type": "code",
   "execution_count": 67,
   "id": "suited-stamp",
   "metadata": {},
   "outputs": [
    {
     "name": "stdout",
     "output_type": "stream",
     "text": [
      "rating matrix shape (1892, 17632)\n",
      "sparsity: 0.28\n"
     ]
    }
   ],
   "source": [
    "# Merge into ap matrix\n",
    "ap = ap.join(artist_rank, on=\"name\", how=\"inner\") \\\n",
    "    .sort_values(['playCount'], ascending=False)\n",
    "\n",
    "# Preprocessing\n",
    "pc = ap.playCount\n",
    "play_count_scaled = (pc - pc.min()) / (pc.max() - pc.min())\n",
    "ap = ap.assign(playCountScaled=play_count_scaled)\n",
    "#print(ap)\n",
    "\n",
    "# Build a user-artist rating matrix \n",
    "ratings_df = ap.pivot(index='userID', columns='artistID', values='playCountScaled')\n",
    "n_users, n_items = ratings_df.shape\n",
    "print(\"rating matrix shape\", ratings_df.shape)\n",
    "\n",
    "ratings = ratings_df.fillna(0).values\n",
    "# Show sparsity\n",
    "sparsity = float(len(ratings.nonzero()[0])) / (ratings.shape[0] * ratings.shape[1]) * 100\n",
    "print(\"sparsity: %.2f\" % sparsity)"
   ]
  },
  {
   "cell_type": "code",
   "execution_count": 68,
   "id": "wireless-poison",
   "metadata": {},
   "outputs": [
    {
     "name": "stdout",
     "output_type": "stream",
     "text": [
      "artistID  1      2         3      4      5         6      7      8      9      \\\n",
      "userID                                                                          \n",
      "2           NaN    NaN       NaN    NaN    NaN       NaN    NaN    NaN    NaN   \n",
      "3           NaN    NaN       NaN    NaN    NaN       NaN    NaN    NaN    NaN   \n",
      "4           NaN    NaN       NaN    NaN    NaN       NaN    NaN    NaN    NaN   \n",
      "5           NaN    NaN       NaN    NaN    NaN       NaN    NaN    NaN    NaN   \n",
      "6           NaN    NaN       NaN    NaN    NaN       NaN    NaN    NaN    NaN   \n",
      "...         ...    ...       ...    ...    ...       ...    ...    ...    ...   \n",
      "2095        NaN    NaN       NaN    NaN    NaN       NaN    NaN    NaN    NaN   \n",
      "2096        NaN    NaN       NaN    NaN    NaN       NaN    NaN    NaN    NaN   \n",
      "2097        NaN    NaN       NaN    NaN    NaN       NaN    NaN    NaN    NaN   \n",
      "2099        NaN    NaN       NaN    NaN    NaN       NaN    NaN    NaN    NaN   \n",
      "2100        NaN    NaN  0.001154    NaN    NaN  0.001143    NaN    NaN    NaN   \n",
      "\n",
      "artistID  10     ...  18736  18737  18738  18739  18740  18741  18742  18743  \\\n",
      "userID           ...                                                           \n",
      "2           NaN  ...    NaN    NaN    NaN    NaN    NaN    NaN    NaN    NaN   \n",
      "3           NaN  ...    NaN    NaN    NaN    NaN    NaN    NaN    NaN    NaN   \n",
      "4           NaN  ...    NaN    NaN    NaN    NaN    NaN    NaN    NaN    NaN   \n",
      "5           NaN  ...    NaN    NaN    NaN    NaN    NaN    NaN    NaN    NaN   \n",
      "6           NaN  ...    NaN    NaN    NaN    NaN    NaN    NaN    NaN    NaN   \n",
      "...         ...  ...    ...    ...    ...    ...    ...    ...    ...    ...   \n",
      "2095        NaN  ...    NaN    NaN    NaN    NaN    NaN    NaN    NaN    NaN   \n",
      "2096        NaN  ...    NaN    NaN    NaN    NaN    NaN    NaN    NaN    NaN   \n",
      "2097        NaN  ...    NaN    NaN    NaN    NaN    NaN    NaN    NaN    NaN   \n",
      "2099        NaN  ...    NaN    NaN    NaN    NaN    NaN    NaN    NaN    NaN   \n",
      "2100        NaN  ...    NaN    NaN    NaN    NaN    NaN    NaN    NaN    NaN   \n",
      "\n",
      "artistID  18744  18745  \n",
      "userID                  \n",
      "2           NaN    NaN  \n",
      "3           NaN    NaN  \n",
      "4           NaN    NaN  \n",
      "5           NaN    NaN  \n",
      "6           NaN    NaN  \n",
      "...         ...    ...  \n",
      "2095        NaN    NaN  \n",
      "2096        NaN    NaN  \n",
      "2097        NaN    NaN  \n",
      "2099        NaN    NaN  \n",
      "2100        NaN    NaN  \n",
      "\n",
      "[1892 rows x 17632 columns]\n"
     ]
    }
   ],
   "source": [
    "from scipy.sparse import csr_matrix\n",
    "\n",
    "# Build a sparse matrix\n",
    "X = csr_matrix(ratings)\n",
    "print(ratings_df)"
   ]
  },
  {
   "cell_type": "code",
   "execution_count": 63,
   "id": "backed-nevada",
   "metadata": {},
   "outputs": [
    {
     "data": {
      "text/plain": [
       "<lightfm.lightfm.LightFM at 0x7f7b371aab80>"
      ]
     },
     "execution_count": 63,
     "metadata": {},
     "output_type": "execute_result"
    }
   ],
   "source": [
    "from lightfm import LightFM\n",
    "from lightfm.evaluation import auc_score, precision_at_k, recall_at_k\n",
    "from lightfm.cross_validation import random_train_test_split\n",
    "from lightfm.data import Dataset\n",
    "\n",
    "# Build data references + train test\n",
    "Xcoo = X.tocoo()\n",
    "data = Dataset()\n",
    "data.fit(np.arange(n_users), np.arange(n_items))\n",
    "interactions, weights = data.build_interactions(zip(Xcoo.row, Xcoo.col, Xcoo.data)) \n",
    "train, test = random_train_test_split(interactions)\n",
    "\n",
    "# Train\n",
    "model = LightFM(learning_rate=0.05, loss='warp')\n",
    "model.fit(train, epochs=10, num_threads=2)"
   ]
  },
  {
   "cell_type": "code",
   "execution_count": 64,
   "id": "offensive-antique",
   "metadata": {},
   "outputs": [
    {
     "data": {
      "text/plain": [
       "array([-1.5528026 , -0.53155154, -3.3965557 , ..., -2.3380501 ,\n",
       "       -2.065186  , -2.508964  ], dtype=float32)"
      ]
     },
     "execution_count": 64,
     "metadata": {},
     "output_type": "execute_result"
    }
   ],
   "source": [
    "# Predict\n",
    "scores = model.predict(0, np.arange(n_items))\n",
    "\n",
    "top_items = ratings['item_labels'][np.argsort(-scores)]"
   ]
  },
  {
   "cell_type": "code",
   "execution_count": null,
   "id": "offensive-return",
   "metadata": {},
   "outputs": [],
   "source": []
  }
 ],
 "metadata": {
  "kernelspec": {
   "display_name": "Python 3",
   "language": "python",
   "name": "python3"
  }
 },
 "nbformat": 4,
 "nbformat_minor": 5
}
