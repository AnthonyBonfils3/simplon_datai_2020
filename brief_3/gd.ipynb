{
 "cells": [
  {
   "cell_type": "code",
   "execution_count": 316,
   "metadata": {},
   "outputs": [
    {
     "name": "stdout",
     "output_type": "stream",
     "text": [
      "(1797, 64)\n"
     ]
    }
   ],
   "source": [
    "# Import some libraries\n",
    "\n",
    "import numpy as np\n",
    "from sklearn.datasets import load_digits\n",
    "import matplotlib.pyplot as plt \n",
    "\n",
    "# Import some data\n",
    "digits = load_digits()\n",
    "# Show dimensionality\n",
    "print(digits.data.shape)\n"
   ]
  },
  {
   "cell_type": "code",
   "execution_count": 317,
   "metadata": {},
   "outputs": [
    {
     "data": {
      "text/plain": [
       "<Figure size 432x288 with 0 Axes>"
      ]
     },
     "metadata": {},
     "output_type": "display_data"
    },
    {
     "data": {
      "image/png": "[encoded data removed]",
      "text/plain": [
       "<Figure size 288x288 with 1 Axes>"
      ]
     },
     "metadata": {
      "needs_background": "light"
     },
     "output_type": "display_data"
    }
   ],
   "source": [
    "# Show one data\n",
    "\n",
    "plt.gray() \n",
    "plt.matshow(digits.images[0]) \n",
    "plt.show() "
   ]
  },
  {
   "cell_type": "code",
   "execution_count": 339,
   "metadata": {},
   "outputs": [
    {
     "data": {
      "image/png": "[encoded data removed]",
      "text/plain": [
       "<Figure size 864x864 with 100 Axes>"
      ]
     },
     "metadata": {
      "needs_background": "light"
     },
     "output_type": "display_data"
    }
   ],
   "source": [
    "# Show several data for each label (== category) \n",
    "\n",
    "X = digits.images\n",
    "Y = digits.target\n",
    "\n",
    "n_digits = np.unique(Y)\n",
    "M = 10\n",
    "dim = int(np.sqrt(X.shape[1]))\n",
    "\n",
    "fig, axs = plt.subplots(len(n_digits), M, figsize=(12, 12))\n",
    "for i, d in enumerate(n_digits):\n",
    "    for j in range(M):\n",
    "        a = X[Y == d][j]\n",
    "        axs[i,j].imshow(a)\n",
    "        axs[i,j].axis('off')\n"
   ]
  },
  {
   "cell_type": "code",
   "execution_count": 433,
   "metadata": {},
   "outputs": [
    {
     "name": "stdout",
     "output_type": "stream",
     "text": [
      "train size ratio: 0.800 : 1437\n",
      "test size ratio: 0.200 : 360\n"
     ]
    }
   ],
   "source": [
    "# Build train and test datasets for single class classification\n",
    "\n",
    "from sklearn.model_selection import train_test_split\n",
    "\n",
    "test_size = 0.2\n",
    "X_train, X_test, y_train, y_test = train_test_split(X, Y, test_size=test_size)\n",
    "\n",
    "rtrain = X_train.shape[0]/ X.shape[0]\n",
    "rtest = X_test.shape[0] / X.shape[0]\n",
    "print(\"train size ratio: %.3f : %d\" % (rtrain, len(X_train)))\n",
    "print(\"test size ratio: %.3f : %d\" % (rtest, len(X_test)))\n",
    "\n",
    "# Reformat the data to be \"compliant\" with sklearn input\n",
    "X_train = X_train.reshape(len(X_train), 64)\n",
    "X_test = X_test.reshape(len(X_test), 64)\n",
    "\n",
    "# Prediction for the hand-written digit 7\n",
    "y_train[y_train != 7] = 0\n",
    "y_test[y_test != 7] = 0\n",
    "y_train[y_train == 7] = 1\n",
    "y_test[y_test == 7] = 1"
   ]
  },
  {
   "cell_type": "code",
   "execution_count": 434,
   "metadata": {},
   "outputs": [
    {
     "name": "stdout",
     "output_type": "stream",
     "text": [
      "fitting LogisticRegression\n",
      "fitting LinearSVC\n"
     ]
    },
    {
     "name": "stderr",
     "output_type": "stream",
     "text": [
      "/home/dtrckd/.local/lib/python3.7/site-packages/sklearn/linear_model/_sag.py:330: ConvergenceWarning: The max_iter was reached which means the coef_ did not converge\n",
      "  \"the coef_ did not converge\", ConvergenceWarning)\n",
      "/home/dtrckd/.local/lib/python3.7/site-packages/sklearn/svm/_base.py:947: ConvergenceWarning: Liblinear failed to converge, increase the number of iterations.\n",
      "  \"the number of iterations.\", ConvergenceWarning)\n"
     ]
    },
    {
     "name": "stdout",
     "output_type": "stream",
     "text": [
      "fitting SVC\n",
      "fitting KNN\n",
      "fitting RandomForestClassifier\n"
     ]
    }
   ],
   "source": [
    "# Fit the models\n",
    "\n",
    "from time import time\n",
    "from sklearn.linear_model import LogisticRegression\n",
    "from sklearn.svm import SVC, LinearSVC\n",
    "from sklearn.neighbors import KNeighborsClassifier\n",
    "from sklearn.ensemble import RandomForestClassifier\n",
    "\n",
    "\n",
    "models = {\"LogisticRegression\": LogisticRegression(solver=\"saga\"),\n",
    "          \"LinearSVC\": LinearSVC(),\n",
    "          \"SVC\": SVC(),\n",
    "          \"KNN\": KNeighborsClassifier(),\n",
    "          \"RandomForestClassifier\": RandomForestClassifier(),\n",
    "         }\n",
    "results = dict((k, {}) for k in models)\n",
    "\n",
    "for name, model in models.items():\n",
    "    print(\"fitting %s\" % name)\n",
    "    start = time()\n",
    "    model.fit(X_train, y_train)\n",
    "    results[name]['time'] = time() - start \n"
   ]
  },
  {
   "cell_type": "code",
   "execution_count": 435,
   "metadata": {},
   "outputs": [],
   "source": [
    "# Compute the score (precision and recall)\n",
    "\n",
    "from sklearn.metrics import precision_score, recall_score, accuracy_score\n",
    "\n",
    "for name, model in models.items():\n",
    "    y_pred_train = model.predict(X_train)\n",
    "    y_pred_test = model.predict(X_test)\n",
    "    # precision\n",
    "    pr_train = precision_score(y_train, y_pred_train)\n",
    "    pr_test = precision_score(y_test, y_pred_test)\n",
    "    # Recall\n",
    "    recall_train = recall_score(y_train, y_pred_train)\n",
    "    recall_test = recall_score(y_test, y_pred_test)\n",
    "    # Score (accuraacy)\n",
    "    acc_train = accuracy_score(y_train, y_pred_train)\n",
    "    acc_test = accuracy_score(y_test, y_pred_test)\n",
    "    results[name]['train'] = pr_train, recall_train, acc_train\n",
    "    results[name]['test'] = pr_test, recall_test, acc_test"
   ]
  },
  {
   "cell_type": "code",
   "execution_count": 436,
   "metadata": {},
   "outputs": [
    {
     "name": "stdout",
     "output_type": "stream",
     "text": [
      "performance on train set: \n"
     ]
    },
    {
     "data": {
      "text/html": [
       "<div>\n",
       "<style scoped>\n",
       "    .dataframe tbody tr th:only-of-type {\n",
       "        vertical-align: middle;\n",
       "    }\n",
       "\n",
       "    .dataframe tbody tr th {\n",
       "        vertical-align: top;\n",
       "    }\n",
       "\n",
       "    .dataframe thead th {\n",
       "        text-align: right;\n",
       "    }\n",
       "</style>\n",
       "<table border=\"1\" class=\"dataframe\">\n",
       "  <thead>\n",
       "    <tr style=\"text-align: right;\">\n",
       "      <th></th>\n",
       "      <th>precision</th>\n",
       "      <th>recall</th>\n",
       "      <th>accuracy</th>\n",
       "      <th>time</th>\n",
       "    </tr>\n",
       "  </thead>\n",
       "  <tbody>\n",
       "    <tr>\n",
       "      <th>LogisticRegression</th>\n",
       "      <td>1.000000</td>\n",
       "      <td>0.986577</td>\n",
       "      <td>0.998608</td>\n",
       "      <td>0.193059</td>\n",
       "    </tr>\n",
       "    <tr>\n",
       "      <th>LinearSVC</th>\n",
       "      <td>1.000000</td>\n",
       "      <td>1.000000</td>\n",
       "      <td>1.000000</td>\n",
       "      <td>0.013346</td>\n",
       "    </tr>\n",
       "    <tr>\n",
       "      <th>SVC</th>\n",
       "      <td>1.000000</td>\n",
       "      <td>0.993289</td>\n",
       "      <td>0.999304</td>\n",
       "      <td>0.020572</td>\n",
       "    </tr>\n",
       "    <tr>\n",
       "      <th>KNN</th>\n",
       "      <td>0.993289</td>\n",
       "      <td>0.993289</td>\n",
       "      <td>0.998608</td>\n",
       "      <td>0.010628</td>\n",
       "    </tr>\n",
       "    <tr>\n",
       "      <th>RandomForestClassifier</th>\n",
       "      <td>1.000000</td>\n",
       "      <td>1.000000</td>\n",
       "      <td>1.000000</td>\n",
       "      <td>0.295157</td>\n",
       "    </tr>\n",
       "  </tbody>\n",
       "</table>\n",
       "</div>"
      ],
      "text/plain": [
       "                        precision    recall  accuracy      time\n",
       "LogisticRegression       1.000000  0.986577  0.998608  0.193059\n",
       "LinearSVC                1.000000  1.000000  1.000000  0.013346\n",
       "SVC                      1.000000  0.993289  0.999304  0.020572\n",
       "KNN                      0.993289  0.993289  0.998608  0.010628\n",
       "RandomForestClassifier   1.000000  1.000000  1.000000  0.295157"
      ]
     },
     "execution_count": 436,
     "metadata": {},
     "output_type": "execute_result"
    }
   ],
   "source": [
    "# plot the binary classifier score (precision and recall on **train** test\n",
    "\n",
    "import pandas as pd\n",
    "\n",
    "setname = \"train\"\n",
    "res2 = dict((k,{\"precision\" : v[setname][0],\n",
    "                \"recall\" : v[setname][1],\n",
    "                \"accuracy\": v[setname][2],\n",
    "                \"time\" : v[\"time\"]\n",
    "               }) for k,v in results.items())\n",
    "\n",
    "tab = pd.DataFrame.from_dict(res2, orient='index')\n",
    "\n",
    "print(\"performance on %s set: \" % setname)\n",
    "tab"
   ]
  },
  {
   "cell_type": "code",
   "execution_count": 437,
   "metadata": {},
   "outputs": [
    {
     "name": "stdout",
     "output_type": "stream",
     "text": [
      "performance on test set: \n"
     ]
    },
    {
     "data": {
      "text/html": [
       "<div>\n",
       "<style scoped>\n",
       "    .dataframe tbody tr th:only-of-type {\n",
       "        vertical-align: middle;\n",
       "    }\n",
       "\n",
       "    .dataframe tbody tr th {\n",
       "        vertical-align: top;\n",
       "    }\n",
       "\n",
       "    .dataframe thead th {\n",
       "        text-align: right;\n",
       "    }\n",
       "</style>\n",
       "<table border=\"1\" class=\"dataframe\">\n",
       "  <thead>\n",
       "    <tr style=\"text-align: right;\">\n",
       "      <th></th>\n",
       "      <th>precision</th>\n",
       "      <th>recall</th>\n",
       "      <th>accuracy</th>\n",
       "      <th>time</th>\n",
       "    </tr>\n",
       "  </thead>\n",
       "  <tbody>\n",
       "    <tr>\n",
       "      <th>LogisticRegression</th>\n",
       "      <td>0.937500</td>\n",
       "      <td>1.000000</td>\n",
       "      <td>0.994444</td>\n",
       "      <td>0.193059</td>\n",
       "    </tr>\n",
       "    <tr>\n",
       "      <th>LinearSVC</th>\n",
       "      <td>0.937500</td>\n",
       "      <td>1.000000</td>\n",
       "      <td>0.994444</td>\n",
       "      <td>0.013346</td>\n",
       "    </tr>\n",
       "    <tr>\n",
       "      <th>SVC</th>\n",
       "      <td>1.000000</td>\n",
       "      <td>1.000000</td>\n",
       "      <td>1.000000</td>\n",
       "      <td>0.020572</td>\n",
       "    </tr>\n",
       "    <tr>\n",
       "      <th>KNN</th>\n",
       "      <td>0.967742</td>\n",
       "      <td>1.000000</td>\n",
       "      <td>0.997222</td>\n",
       "      <td>0.010628</td>\n",
       "    </tr>\n",
       "    <tr>\n",
       "      <th>RandomForestClassifier</th>\n",
       "      <td>1.000000</td>\n",
       "      <td>0.966667</td>\n",
       "      <td>0.997222</td>\n",
       "      <td>0.295157</td>\n",
       "    </tr>\n",
       "  </tbody>\n",
       "</table>\n",
       "</div>"
      ],
      "text/plain": [
       "                        precision    recall  accuracy      time\n",
       "LogisticRegression       0.937500  1.000000  0.994444  0.193059\n",
       "LinearSVC                0.937500  1.000000  0.994444  0.013346\n",
       "SVC                      1.000000  1.000000  1.000000  0.020572\n",
       "KNN                      0.967742  1.000000  0.997222  0.010628\n",
       "RandomForestClassifier   1.000000  0.966667  0.997222  0.295157"
      ]
     },
     "execution_count": 437,
     "metadata": {},
     "output_type": "execute_result"
    }
   ],
   "source": [
    "# plot the binary classifier score (precision and recall on **train** test\n",
    "\n",
    "import pandas as pd\n",
    "\n",
    "setname = \"test\"\n",
    "res2 = dict((k,{\"precision\" : v[setname][0],\n",
    "                \"recall\" : v[setname][1],\n",
    "                \"accuracy\": v[setname][2],\n",
    "                \"time\" : v[\"time\"]\n",
    "               }) for k,v in results.items())\n",
    "\n",
    "tab = pd.DataFrame.from_dict(res2, orient='index')\n",
    "\n",
    "print(\"performance on %s set: \" % setname)\n",
    "Al tab"
   ]
  },
  {
   "cell_type": "markdown",
   "metadata": {},
   "source": [
    "All the algorithm seems to perform well !\n",
    "\n",
    "\n",
    "The best algorithms in term of accuracy are in order \n",
    "1. SVM\n",
    "2. KNN, RandomForest\n",
    "3. LinearSvcn Logistic regression\n",
    "4. Logistic regression\n"
   ]
  },
  {
   "cell_type": "code",
   "execution_count": 438,
   "metadata": {},
   "outputs": [
    {
     "name": "stdout",
     "output_type": "stream",
     "text": [
      "              precision    recall  f1-score   support\n",
      "\n",
      "           0       1.00      0.99      1.00       330\n",
      "           1       0.94      1.00      0.97        30\n",
      "\n",
      "    accuracy                           0.99       360\n",
      "   macro avg       0.97      1.00      0.98       360\n",
      "weighted avg       0.99      0.99      0.99       360\n",
      "\n"
     ]
    },
    {
     "data": {
      "image/png": "[encoded data removed]",
      "text/plain": [
       "<Figure size 432x288 with 2 Axes>"
      ]
     },
     "metadata": {
      "needs_background": "light"
     },
     "output_type": "display_data"
    }
   ],
   "source": [
    "# plot the confusion matrix for the Logistic Regression classifier\n",
    "\n",
    "from sklearn.metrics import plot_confusion_matrix\n",
    "from sklearn.metrics import classification_report\n",
    "\n",
    "classifier = models[\"LogisticRegression\"]\n",
    "\n",
    "cmat = plot_confusion_matrix(classifier, X_test, y_test)\n",
    "cmat.figure_.suptitle(\"Confusion Matrix\")\n",
    "#print(\"Confusion matrix:\\n%s\" % cmat.confusion_matrix)\n",
    "\n",
    "report = classification_report(y_test, classifier.predict(X_test))\n",
    "print(report)"
   ]
  },
  {
   "cell_type": "markdown",
   "metadata": {},
   "source": [
    "We observe that there is very data used to classifiy the \"1\". The dataset is imbalanced ! \n",
    "\n",
    "How can we provide more faire comparaison or measure in the case of an imbalancer dataset ?"
   ]
  },
  {
   "cell_type": "code",
   "execution_count": 324,
   "metadata": {},
   "outputs": [
    {
     "name": "stdout",
     "output_type": "stream",
     "text": [
      "fitting LogisticRegression\n",
      "fitting LinearSVC\n",
      "fitting KNN\n",
      "fitting SVC\n",
      "fitting RandomForestClassifier\n"
     ]
    },
    {
     "name": "stderr",
     "output_type": "stream",
     "text": [
      "/home/dtrckd/.local/lib/python3.7/site-packages/sklearn/linear_model/_logistic.py:940: ConvergenceWarning: lbfgs failed to converge (status=1):\n",
      "STOP: TOTAL NO. of ITERATIONS REACHED LIMIT.\n",
      "\n",
      "Increase the number of iterations (max_iter) or scale the data as shown in:\n",
      "    https://scikit-learn.org/stable/modules/preprocessing.html\n",
      "Please also refer to the documentation for alternative solver options:\n",
      "    https://scikit-learn.org/stable/modules/linear_model.html#logistic-regression\n",
      "  extra_warning_msg=_LOGISTIC_SOLVER_CONVERGENCE_MSG)\n",
      "/home/dtrckd/.local/lib/python3.7/site-packages/sklearn/svm/_base.py:947: ConvergenceWarning: Liblinear failed to converge, increase the number of iterations.\n",
      "  \"the number of iterations.\", ConvergenceWarning)\n"
     ]
    }
   ],
   "source": [
    "# Build train and test datasets for **multi-class** classification\n",
    "# Fit models\n",
    "# Show the results\n",
    "\n",
    "from sklearn.model_selection import train_test_split\n",
    "from time import time\n",
    "from sklearn.linear_model import LogisticRegression\n",
    "from sklearn.svm import SVC, LinearSVC\n",
    "from sklearn.neighbors import KNeighborsClassifier\n",
    "from sklearn.ensemble import RandomForestClassifier\n",
    "\n",
    "from sklearn.metrics import precision_score, recall_score\n",
    "\n",
    "\n",
    "test_size = 0.1\n",
    "X_train, X_test, y_train, y_test = train_test_split(X, Y, test_size=test_size)\n",
    "\n",
    "# Reformat the data to be \"compliant\" with sklearn input\n",
    "X_train = X_train.reshape(len(X_train), 64)\n",
    "X_test = X_test.reshape(len(X_test), 64)\n",
    "\n",
    "\n",
    "models = {\"LogisticRegression\": LogisticRegression(),\n",
    "          \"LinearSVC\": LinearSVC(),\n",
    "          \"KNN\": KNeighborsClassifier(),\n",
    "          \"SVC\": SVC(),\n",
    "          \"RandomForestClassifier\": RandomForestClassifier(),\n",
    "         }\n",
    "results = dict((k, {}) for k in models)\n",
    "\n",
    "for name, model in models.items():\n",
    "    print(\"fitting %s\" % name)\n",
    "    start = time()\n",
    "    model.fit(X_train, y_train)\n",
    "    results[name]['time'] = time() - start \n",
    "    "
   ]
  },
  {
   "cell_type": "code",
   "execution_count": 325,
   "metadata": {},
   "outputs": [
    {
     "name": "stdout",
     "output_type": "stream",
     "text": [
      "              precision    recall  f1-score   support\n",
      "\n",
      "           0       0.99      0.99      0.99       142\n",
      "           1       0.91      0.88      0.90       153\n",
      "           2       0.96      0.99      0.98       139\n",
      "           3       0.94      0.96      0.95       142\n",
      "           4       0.98      0.91      0.94       150\n",
      "           5       0.95      0.97      0.96       144\n",
      "           6       0.98      0.98      0.98       146\n",
      "           7       0.99      0.97      0.98       147\n",
      "           8       0.92      0.92      0.92       131\n",
      "           9       0.88      0.93      0.91       144\n",
      "\n",
      "    accuracy                           0.95      1438\n",
      "   macro avg       0.95      0.95      0.95      1438\n",
      "weighted avg       0.95      0.95      0.95      1438\n",
      "\n"
     ]
    },
    {
     "data": {
      "image/png": "[encoded data removed]",
      "text/plain": [
       "<Figure size 432x288 with 2 Axes>"
      ]
     },
     "metadata": {
      "needs_background": "light"
     },
     "output_type": "display_data"
    }
   ],
   "source": [
    "# plot the confusion matrix for the Logistic Regression classifier\n",
    "\n",
    "from sklearn.metrics import plot_confusion_matrix\n",
    "from sklearn.metrics import classification_report\n",
    "\n",
    "classifier = models[\"LogisticRegression\"]\n",
    "\n",
    "cmat = plot_confusion_matrix(classifier, X_test, y_test)\n",
    "cmat.figure_.suptitle(\"Confusion Matrix\")\n",
    "#print(\"Confusion matrix:\\n%s\" % cmat.confusion_matrix)\n",
    "\n",
    "report = classification_report(y_test, classifier.predict(X_test))\n",
    "print(report)"
   ]
  },
  {
   "cell_type": "markdown",
   "metadata": {},
   "source": [
    "This time, we observed thjat the dataset is balanced: we have rouhly the same number of data in each category. \n",
    "\n",
    "The 1 seems to be the digits that is the hardest to recognize. (in term of f1 score)\n",
    "The 9 seems to the hardest in terms of precision (maybe because is it at the same time similar to a 8 and 3.)"
   ]
  },
  {
   "cell_type": "code",
   "execution_count": null,
   "metadata": {},
   "outputs": [],
   "source": []
  }
 ],
 "metadata": {
  "kernelspec": {
   "display_name": "Python 3",
   "language": "python",
   "name": "python3"
  },
  "language_info": {
   "codemirror_mode": {
    "name": "ipython",
    "version": 3
   },
   "file_extension": ".py",
   "mimetype": "text/x-python",
   "name": "python",
   "nbconvert_exporter": "python",
   "pygments_lexer": "ipython3",
   "version": "3.7.3"
  }
 },
 "nbformat": 4,
 "nbformat_minor": 2
}
